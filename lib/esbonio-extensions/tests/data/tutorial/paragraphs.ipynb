{
 "cells": [
  {
   "cell_type": "markdown",
   "metadata": {},
   "source": [
    "\n",
    "Here is an extended example that involves more text than what can fit inside a\n",
    "single paragraph of text. This is to ensure that when the translator encounters\n",
    "mutliple paragraphs - unlike the code blocks it does not split the paragraph\n",
    "into multiple cells.\n",
    "\n",
    "Instead this should be combined into a single cell with the appropriate spacing\n",
    "between the lines so that they are formatted accordingly.\n"
   ]
  }
 ],
 "metadata": {},
 "nbformat": 4,
 "nbformat_minor": 4
}
