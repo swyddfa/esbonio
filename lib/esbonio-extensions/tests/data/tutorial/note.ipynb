{
    "cells": [
        {
            "cell_type": "markdown",
            "metadata": {},
            "source": [
                "\n",
                "> **Note**\n",
                ">\n",
                "> This is an *important* note\n",
                "> \n"
            ]
        }
    ],
    "metadata": {},
    "nbformat": 4,
    "nbformat_minor": 4
}
