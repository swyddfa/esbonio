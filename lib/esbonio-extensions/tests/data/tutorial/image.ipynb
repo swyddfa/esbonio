{
 "cells": [
  {
   "cell_type": "markdown",
   "metadata": {},
   "source": [
    "\n",
    "![](resources/image.png)\n"
   ]
  }
 ],
 "metadata": {},
 "nbformat": 4,
 "nbformat_minor": 4
}
